{
  "nbformat": 4,
  "nbformat_minor": 0,
  "metadata": {
    "colab": {
      "provenance": []
    },
    "kernelspec": {
      "name": "python3",
      "display_name": "Python 3"
    },
    "language_info": {
      "name": "python"
    }
  },
  "cells": [
    {
      "cell_type": "code",
      "execution_count": null,
      "metadata": {
        "id": "JjhPJn41Vv6B"
      },
      "outputs": [],
      "source": [
        "import pandas as pd\n",
        "import numpy as np\n",
        "from sklearn.model_selection import train_test_split\n",
        "from sklearn.preprocessing import StandardScaler, OneHotEncoder\n",
        "from sklearn.compose import ColumnTransformer\n",
        "from sklearn.pipeline import Pipeline\n",
        "from sklearn.ensemble import RandomForestRegressor\n",
        "from sklearn.metrics import mean_squared_error\n",
        "import joblib\n"
      ]
    },
    {
      "cell_type": "code",
      "source": [
        "from google.colab import drive\n",
        "drive.mount('/content/drive/')"
      ],
      "metadata": {
        "colab": {
          "base_uri": "https://localhost:8080/"
        },
        "id": "mbspvRfTWCWp",
        "outputId": "83c687fe-b9c3-46ad-d50d-7e75dc2b1098"
      },
      "execution_count": null,
      "outputs": [
        {
          "output_type": "stream",
          "name": "stdout",
          "text": [
            "Mounted at /content/drive/\n"
          ]
        }
      ]
    },
    {
      "cell_type": "code",
      "source": [
        "\n",
        "\n",
        "data = pd.read_csv(\"/content/drive/My Drive/Sales Prediction Model/laptop_cleaned2.csv\")\n",
        "\n",
        "# Display the first few rows of the dataframe\n",
        "print(data.head())\n"
      ],
      "metadata": {
        "colab": {
          "base_uri": "https://localhost:8080/"
        },
        "id": "iLj2lJSoWIS9",
        "outputId": "90a868ae-7fd2-44b9-85c6-77f0b8efcd04"
      },
      "execution_count": null,
      "outputs": [
        {
          "output_type": "stream",
          "name": "stdout",
          "text": [
            "   Unnamed: 0                                               Name    Brand  \\\n",
            "0           0  HP Victus 15-fb0157AX Gaming Laptop (AMD Ryzen...       HP   \n",
            "1           1  Lenovo V15 G4 ‎82YU00W7IN Laptop (AMD Ryzen 3 ...   Lenovo   \n",
            "2           2  HP 15s-fq5007TU Laptop (12th Gen Core i3/ 8GB/...       HP   \n",
            "3           3  Samsung Galaxy Book2 Pro 13 Laptop (12th Gen C...  Samsung   \n",
            "4           4  Tecno Megabook T1 Laptop (11th Gen Core i3/ 8G...    Tecno   \n",
            "\n",
            "   Price  Rating Processor_brand Processor_name Processor_variant  \\\n",
            "0  50399    4.30             AMD    AMD Ryzen 5             5600H   \n",
            "1  26690    4.45             AMD    AMD Ryzen 3             7320U   \n",
            "2  37012    4.65           Intel  Intel Core i3             1215U   \n",
            "3  69990    4.75           Intel  Intel Core i5             1240P   \n",
            "4  23990    4.25           Intel  Intel Core i3            1115G4   \n",
            "\n",
            "   Processor_gen  Core_per_processor  ...           Graphics_name  \\\n",
            "0            5.0                 6.0  ...     AMD Radeon RX 6500M   \n",
            "1            7.0                 4.0  ...     AMD Radeon Graphics   \n",
            "2           12.0                 6.0  ...      Intel UHD Graphics   \n",
            "3           12.0                12.0  ...  Intel Iris Xe Graphics   \n",
            "4           11.0                 2.0  ...      Intel UHD Graphics   \n",
            "\n",
            "   Graphics_brand  Graphics_GB  Graphics_integreted  Display_size_inches  \\\n",
            "0             AMD          4.0                False                 15.6   \n",
            "1             AMD          NaN                False                 15.6   \n",
            "2           Intel          NaN                False                 15.6   \n",
            "3           Intel          NaN                False                 13.3   \n",
            "4           Intel          NaN                False                 15.6   \n",
            "\n",
            "   Horizontal_pixel Vertical_pixel     ppi Touch_screen Operating_system  \n",
            "0              1920           1080  141.21         True    Windows 11 OS  \n",
            "1              1920           1080  141.21        False    Windows 11 OS  \n",
            "2              1920           1080  141.21        False    Windows 11 OS  \n",
            "3              1080           1920  165.63        False    Windows 11 OS  \n",
            "4              1920           1080  141.21        False    Windows 11 OS  \n",
            "\n",
            "[5 rows x 29 columns]\n"
          ]
        }
      ]
    },
    {
      "cell_type": "code",
      "source": [
        "# Step 4: Check for Missing Values\n",
        "print(\"Missing values in each column:\")\n",
        "print(data.isnull().sum())\n",
        "\n",
        "# Step 5: Handle Missing Values\n",
        "# Fill NaN values (e.g., with mean for numerical columns)\n",
        "for col in data.select_dtypes(include=[np.number]).columns:\n",
        "    data[col].fillna(data[col].mean(), inplace=True)\n",
        "\n",
        "# For categorical columns, you can fill with mode or create a separate category\n",
        "for col in data.select_dtypes(include=['object']).columns:\n",
        "    data[col].fillna(data[col].mode()[0], inplace=True)\n",
        "\n",
        "# Step 6: Define Features and Target Variable\n",
        "X = data.drop('Price', axis=1)  # Adjust if another column is the target\n",
        "y = data['Price']  # Update as per your dataset\n",
        "\n",
        "# Step 7: Preprocess Data\n",
        "categorical_cols = ['Brand', 'Processor_brand', 'Processor_name',\n",
        "                    'Processor_variant', 'Processor_gen',\n",
        "                    'RAM_type', 'Storage_type',\n",
        "                    'Graphics_name', 'Graphics_brand',\n",
        "                    'Operating_system']\n",
        "numerical_cols = ['Rating', 'Core_per_processor',\n",
        "                  'Total_processor', 'Threads',\n",
        "                  'RAM_GB', 'Storage_capacity_GB',\n",
        "                  'Graphics_GB', 'Display_size_inches',\n",
        "                  'Horizontal_pixel', 'Vertical_pixel',\n",
        "                  'ppi', 'Touch_screen']\n",
        "\n",
        "# Define preprocessing steps\n",
        "numerical_transformer = StandardScaler()\n",
        "categorical_transformer = OneHotEncoder(handle_unknown='ignore')  # Update here\n",
        "\n",
        "preprocessor = ColumnTransformer(\n",
        "    transformers=[\n",
        "        ('num', numerical_transformer, numerical_cols),\n",
        "        ('cat', categorical_transformer, categorical_cols)\n",
        "    ])\n",
        "\n",
        "# Step 8: Create a Pipeline\n",
        "model = Pipeline(steps=[\n",
        "    ('preprocessor', preprocessor),\n",
        "    ('regressor', RandomForestRegressor(n_estimators=100, random_state=42))\n",
        "])\n",
        "\n",
        "# Step 9: Split the Data into Training and Test Sets\n",
        "X_train, X_test, y_train, y_test = train_test_split(X, y, test_size=0.2, random_state=42)\n",
        "\n",
        "# Step 10: Train the Model\n",
        "model.fit(X_train, y_train)\n",
        "\n",
        "# Step 11: Make Predictions\n",
        "y_pred = model.predict(X_test)\n",
        "\n",
        "# Step 12: Evaluate Model Performance\n",
        "mse = mean_squared_error(y_test, y_pred)\n",
        "print(\"Mean Squared Error:\", mse)\n",
        "\n",
        "# Step 13: Save the Model and Predictions\n",
        "model_path = '/content/drive/My Drive/sales_prediction_model.joblib'  # Update the path\n",
        "joblib.dump(model, model_path)\n",
        "\n",
        "# Save predictions to a CSV file\n",
        "predictions = pd.DataFrame({'Actual': y_test, 'Predicted': y_pred})\n",
        "predictions_path = '/content/drive/My Drive/predictions.csv'  # Update the path\n",
        "predictions.to_csv(predictions_path, index=False)\n",
        "\n"
      ],
      "metadata": {
        "colab": {
          "base_uri": "https://localhost:8080/"
        },
        "id": "C4pW0xfyaF73",
        "outputId": "c7d08b5a-f4c0-4bfd-f015-ea4880dbc885",
        "collapsed": true
      },
      "execution_count": null,
      "outputs": [
        {
          "output_type": "stream",
          "name": "stdout",
          "text": [
            "Missing values in each column:\n",
            "Unnamed: 0                0\n",
            "Name                      0\n",
            "Brand                     0\n",
            "Price                     0\n",
            "Rating                    0\n",
            "Processor_brand           0\n",
            "Processor_name            0\n",
            "Processor_variant         0\n",
            "Processor_gen             0\n",
            "Core_per_processor        0\n",
            "Total_processor           0\n",
            "Execution_units           0\n",
            "Low_Power_Cores           0\n",
            "Energy_Efficient_Units    0\n",
            "Threads                   0\n",
            "RAM_GB                    0\n",
            "RAM_type                  0\n",
            "Storage_capacity_GB       0\n",
            "Storage_type              0\n",
            "Graphics_name             0\n",
            "Graphics_brand            0\n",
            "Graphics_GB               0\n",
            "Graphics_integreted       0\n",
            "Display_size_inches       0\n",
            "Horizontal_pixel          0\n",
            "Vertical_pixel            0\n",
            "ppi                       0\n",
            "Touch_screen              0\n",
            "Operating_system          0\n",
            "dtype: int64\n"
          ]
        },
        {
          "output_type": "stream",
          "name": "stderr",
          "text": [
            "<ipython-input-16-e82924521dee>:8: FutureWarning: A value is trying to be set on a copy of a DataFrame or Series through chained assignment using an inplace method.\n",
            "The behavior will change in pandas 3.0. This inplace method will never work because the intermediate object on which we are setting values always behaves as a copy.\n",
            "\n",
            "For example, when doing 'df[col].method(value, inplace=True)', try using 'df.method({col: value}, inplace=True)' or df[col] = df[col].method(value) instead, to perform the operation inplace on the original object.\n",
            "\n",
            "\n",
            "  data[col].fillna(data[col].mean(), inplace=True)\n",
            "<ipython-input-16-e82924521dee>:12: FutureWarning: A value is trying to be set on a copy of a DataFrame or Series through chained assignment using an inplace method.\n",
            "The behavior will change in pandas 3.0. This inplace method will never work because the intermediate object on which we are setting values always behaves as a copy.\n",
            "\n",
            "For example, when doing 'df[col].method(value, inplace=True)', try using 'df.method({col: value}, inplace=True)' or df[col] = df[col].method(value) instead, to perform the operation inplace on the original object.\n",
            "\n",
            "\n",
            "  data[col].fillna(data[col].mode()[0], inplace=True)\n"
          ]
        },
        {
          "output_type": "stream",
          "name": "stdout",
          "text": [
            "Mean Squared Error: 711737621.0900204\n",
            "['computing-usage-dataset', '10.pdf', '12.pdf', 'State of eligibility.pdf', 'photo.jpg', 'signature.jpg', 'Enrollment Form Print.pdf', 'Online Payment Receipt.pdf', 'front Page.pdf', 'Certificate for Sourabh Singhal for \"Online Workshop\".pdf', 'Sourabh Singhal (2).pdf', 'Sourabh.pdf', 'Sourabh Singhal.pdf', 'IMG_20210722_162457.jpg', 'Sourabh photo.jpg', 'Sourabh covid vaccination 1 dose certificate.pdf', 'Id card.jpg', 'SOURABH SINGHAL.jpg', 'photo (1).jpg', 'Sourabh Singhal (1).pdf', 'SourabhSinghal-LNCT Cyber Surak-certificate.pdf', 'SourabhSinghal-LNCT Cyber Surak-certificate (1).pdf', 'SourabhSinghal-LNCT Cyber Surak-certificate (2).pdf', 'SourabhSinghal-LNCT Cyber Surak-certificate (3).pdf', '0103EC201171.pdf', 'Document from Anita', 'photo.jpeg', 'WhatsApp Image 2023-07-25 at 12.50.18 PM.jpeg', 'IMG-20230731-WA0014.jpg', 'bio.gdoc', 'blackcoffer', 'Smart_Helmet_Kavach_Synopsis[1][1].docx', 'Resume', 'AWS Cloud Practioner Essentials Completion Certificate.pdf', 'adarsh bhai  biodata.gdoc', 'Colab Notebooks', 'Mamaji Bio Data.gdoc', 'IMG_20240311_204930.jpg', 'MasterDictionary', 'StopWords', 'assignment blackcoffer', 'invact', 'bcs', 'SourabhSinghal_GS5_CW.gsheet', 'Taiyo', 'SourabhSinghal_B0_Functions.gsheet', 'Copy of Kreative Organics Assignments - Data science Role.gsheet', 'Copy of Sample Data Set For Main Tasks.gsheet', 'Deep Thought.gsheet', 'output_with_key.csv', 'Sourabh_Singhal_OLA-B0 & B1.gsheet', 'sourabh singhal [Final Assignment] B4.6 Bank Transaction.gsheet', 'sourabh singhal B7.1 Data Cleaning-I.gsheet', 'Sourabh Singhal B7.2 Data Cleaning-II.gsheet', 'Sourabh Singhal B7 Final Assignment.gsheet', 'Sourabh Singhal B8.1 Pivot Table-1.gsheet', 'Sourabh Singhal B8.2 Percentage Analysis_Pivot Tables.gsheet', 'sourabh singhal B7.2 Data Cleaning-II (1).gsheet', 'sourabh singhal B7.2 Data Cleaning-II.gsheet', 'Sourabh Singhal B8.4 Multiple rows and column with filters.gsheet', 'sourabh singhal B7.3 Data Cleaning-III.gsheet', 'sourabh singhal B9.1 Pivot Table-II.gsheet', 'sourabh singhal OLA (B1-B4).gsheet', 'sourabh singhal [Final Assignment] B8.6 OfficeTech & More.gsheet', 'sourabh singhal B9.2 Pivot Table-II.gsheet', 'sourabh singhal [Assignment] B9.6 RoamTheLand.gsheet', 'sourabh singhal OLA (B5).gsheet', 'sourabh singhal B10.5 TechMart Electronics.gsheet', 'sourabh singhal [Assignment] B10.6 TechSol Enterprises.gsheet', 'sourabh singhal OLA (B8 & B9).gsheet', 'sourabh singhal [Final Assignment] B11 Sales Data.gsheet', 'sourabh singhal OLA (B10).gsheet', 'sourabh singhal [Assignment] B12.5 FilmCraft  Analytics.gsheet', 'sourabh singhal [Final Assignment] B13 SuperMart.gsheet', 'sourabh singhal [Final Assignment-Question] A1.8 Dubey Dry Fruits.gsheet', 'Screenshot_2024-05-20-22-38-02-12_b8a0c51c060ad6c221faa2495327ecc5.jpg', 'SOURABH SINGHAL [Final Assignment] A2.7 Poha Stall.gsheet', 'real freelancer.gdoc', 'sample of freelancer.gdoc', 'SOURABH SINGHAL [Final Assignment] A3.4 Srikanta Dosa Shop_Question.gsheet', 'SOURABH SINGHAL [Full Assignment -Question] A4.4 Gadget accessories  store.gsheet', 'SOURABH SINGHAL [Final Assignment] A5.5 Agarbatti Company [Updated].gsheet', 'Naman_Biodata-1.pdf', 'IMG-20240609-WA0008.jpg', 'sourabh singhal C2.1_TeeWave.gsheet', 'SOURABH SINGHAL [Full Exercise 2] A5.4 Candle Company [New].gsheet', 'SOURABH SINGHAL [Full Exercise 1] A7.3 Sandwich outlet.gsheet', 'SOURABH SINGHAL [Assignment] A7.4 Coffee House.gsheet', 'Adarsh_Agrawal.pdf', 'SOURABH SINGHAL [Full Exercise 2] A6.3 Home appliance store.gsheet', 'sourabh singhal C1.1_Diamond  Icecream Corner.gsheet', 'sourabh singhal [Full Exercise] C1.9_Royal Saree.gsheet', 'sourabh singhal [Full Exercise] C1.10_Sports Hub.gsheet', 'sourabh singhal [Final Assignment] C1.10 Gift Town_Question.gsheet', 'sourabh singhal C3.1 Chocolate Factory.gsheet', 'sourabh singhal [Full Exercise-1] C3.3 Paint & Twist.gsheet', 'sourabh singhal [Full Exercise] C3.3 Samosa Shop.gsheet', 'sourabh singhal [Assignment] CustomWear Creations.gsheet', 'sourabh singhal [Full Exercise-1] C4.5 Bedding stores.gsheet', 'sourabh singhal [Full Exercise-2] C4.5 Puja stores.gsheet', 'SOURABH SINGHAL [Assignment]  A6.4 Furniture store.gsheet', 'sourabh singhal [Final Assignment] C4.6 Bag Retailers.gsheet', 'front adhar.jpeg', 'sourabh singhal [Full Exercise-1] D2.4 GreenThumb Nursery .gsheet', 'sourabh singhal [Full Exercise-2] D2.4 Glitters Ltd.gsheet', 'sourabh singhal [Final Assignment] D2.5 TechWonders.gsheet', 'sourabh singhal D3.1 Venus Chocolates.gsheet', 'sourabh singhal [Full Exercise-1] D3.7 RoadGrip.gsheet', 'sourabh singhal [Full Exercise-2] D3.7 Candle Cult.gsheet', 'sourabh singhal [Final Assignment] D3.8 Ceramic World.gsheet', 'My Resume (6).pdf', 'My Resume (5).pdf', 'sourabh singhal Theory Concepts- 1_Solution Template.gdoc', 'sourabh singhal D4.1 Venus Chocolates.gsheet', 'sourabh singhal Full Exercise-1] D4.7 RoadGrip.gsheet', 'sourabh singhal [Full Exercise-2] D4.7 Candle Cult.gsheet', 'sourabh singhal D5.1 Venus Chocolates.gsheet', 'sourabh singhal [Full Exercise-1]D5.3_RoadGrip.gsheet', 'sourabh singhal [Full Exercise-2]D5.3_Candle Cult.gsheet', 'sourabh singhal [Full Assignment]D5.4 Ceramic World.gsheet', 'sourabh singhal D6.1 Saturn Cookies.gsheet', 'sourabh singhal Theory Concepts- 2_Solution Template.gdoc', 'sourabh singhal [Full Exercise-1] D6.5 Neeta Silk.gsheet', 'sourabh singhal [Final Assignment] D6.6 Arun Toys (1).gsheet', 'sourabh singhal [Full Exercise-1] E1.5 Omega Ltd..gsheet', 'sourabh singhal [Full Exercise-1] E2.4 Omega Ltd..gsheet', 'Aptitude Test.xlsm', 'My Resume (4).pdf', 'sourabh singhal Theory Concepts- 3_Solution Template.gdoc', 'sourabh singhal [Full Exercise-2] D6.5 Benita Solutions.gsheet', 'sourabh [Final Assignment] E2.5 Infynes Ltd.gsheet', 'sourabh singhal Theory Concepts- 4_Solution Template.gdoc', 'sourabhsinghal [Full Exercise-2] E2.4 BLT Ltd..gsheet', 'sourabh singhal [Final Assignment] E1.6 Infynes Ltd..gsheet', 'sourabh singhal [Final Assignment] D6.6 Arun Toys.gsheet', 'sourabh singhal [Full Exercise-2] E1.5 BLT Ltd..gsheet', 'sourabh singhal Theory Concepts- 12_Solution Template.gdoc', 'sourabh singhal FE-1_Soundwear_Question.gsheet', 'f1', 'sourabh singhal F1.1_Class Exercise.gdoc', 'sourabh singhal FE-2_Mobile Planet_Question.gsheet', 'sourabh singhal F1.2_Full Exercise 2.gdoc', 'sourabh singhal Assignment_Question.gsheet', 'sourabh singhal F1.3_Final Assignment.gdoc', 'sourabh singhal [Full Exercise-1] D1.5 Fast N Speedy.gsheet', 'sourabh singhal [Full Exercise-2] D1.5 Bookstore 101.gsheet', 'sourabh singhal [Final Assignment] D1.6 CellPower Question.gsheet', 'sourabh singhal F2.1_Class Exercise.gdoc', 'sourabh singhal F2.2_Full Exercise 2.gdoc', 'sourabh singhal F2.3_Final Assignment.gdoc', 'sourabh singhal Theory Concepts- Revision 2 Solution Template.gdoc', 'sourabh singhal Theory Concepts- 5_Solution Template (1).gdoc', 'sourabh singhal Theory Concepts- 6_Solution Template.gdoc', 'sourabh singhal Theory Concepts- 11_Solution Template.gdoc', 'sourabh singhal Theory Concepts- 10_Solution Template.gdoc', 'sourabh singhal Theory Concepts- 8_Solution Template.gdoc', 'sourabh singhal Theory Concepts- 5_Solution Template.gdoc', 'sourabh singhal Theory Concepts- 7_Solution Template.gdoc', 'sourabh singhal Theory Concepts- Revision 1_Solution Template.gdoc', 'sourabh singhal Theory Concepts- 9_Solution Template.gdoc', 'sourabh singhal ClassExercise_EM Lookups_Cricketer Data.gsheet', 'sourabh singhal Final Assignment_Hotel Cancellation (1).gsheet', 'sourabh singhal Full Exercise-1_Electronics Data.gsheet', 'sourabh singhal Final Assignment_Hotel Rating.gsheet', 'sourabh singhal TC_Excel 1.gdoc', 'sourabh singhal Full Exercise-1_Gym Data.gsheet', 'sourabh singhal Full Exercise-2_Travel Data.gsheet', 'sourabh singhal [Full Exercise] EM KPI_Preowned Car Dealer.gsheet', 'sourabh singhal Final Assignment_Hotel Cancellation.gsheet', 'sourabh singhal Full Exercise-1 EM MIS_Order Data.gsheet', 'sourabh singhal Full Exercise-2 EM MIS_ Sales Order Report.gsheet', 'sourabh singhal [Final Exercise ] KPI Loan_Data.gsheet', 'IMG20240810182333.jpg', 'Screenshot_2024-08-10-18-26-19-15_c37d74246d9c81aa0bb824b57eaf7062.jpg', 'IMG_20240810_182740.jpg', 'IMG20240810183238.jpg', 'challenge_sheet.gsheet', 'Difficulty_Level (1).gsheet', 'Difficulty_Level.gsheet', 'student_sheet.gsheet', 'Submission_sheet.gsheet', 'Submission_sheet_20th_March.gsheet', 'Student-region.gsheet', 'Student with Field of Study - Student (2).gsheet', 'Student with Field of Study - Student (1).gsheet', 'Submission 9th_March - submission (1).gsheet', 'SOURABH SINGHAL__Sportsfit.gsheet', 'SOURABH SINGHAL_ABC Ltd.gsheet', 'SOURABH SINGHAL_StepNStyle.gsheet', 'Screenshot_2024-08-21-12-47-59-67_e307a3f9df9f380ebaf106e1dc980bb6.jpg', 'My Resume (3).pdf', 'My Resume (2).pdf', '[Data Analyst Intern at Invact] Assignment 1.pdf', 'sourabh singhal [Data Analyst Intern at Invact] Student Performance Analysis.gsheet', 'Screenshot_2024-08-24-16-47-46-43_40deb401b9ffe8e1df2f1cc5ba480b12.jpg', '[Data Analyst Intern at Invact] Assignment 2.pdf', '[Data Analyst Intern at Invact] Assignment 2.gdoc', 'sourabh singhal [Data Analyst Intern at Invact] Assignment 2.gsheet', 'Sourabh Singhal FIFA- Group Matches (Week 1).gsheet', 'My Resume (1).pdf', 'My Resume.pdf', 'My Resume2.pdf', 'Sourabh Singhal Resume.gdoc', 'Task 3_Final Content Data set.csv', 'Sourabh Singhal Resume.pdf', 'sourabh Singhal [Assignment] EM Functions- Importrange.gsheet', 'Task 3_Final Content Data set.gsheet', 'Untitled presentation.gslides', 'Screen-Recording-2024-09-14T08_45_13 (1).662Z.mp4', 'AIML Sourabh Singhal.gslides', 'AIML_SOURABH_SINGHAL.zip', 'Screen-Recording-2024-09-14T08_45_13.662Z.mp4', 'Sourabh Singhal', 'Sourabh Singhal IntroTravel Variance Analysis.gsheet', 'Copy of Final Sphurti Excel Test 1.xlsx', 'WhatsApp Image 2024-09-23 at 7.41.02 PM.jpg', 'WhatsApp Image 2024-09-23 at 7.41.02 PM.gdoc', 'ats resume.gdoc', 'Sourabh Singhal Tringg Cars.gsheet', 'Sourabh Singhal FIFA- Group Matches (Week 2).gsheet', 'SOURABH SINGHAL Certificate.pdf', 'Submission 8th_March - submission.gsheet', 'student_id_with_ region_8thMarch.gsheet', 'Submission 9th_March - submission.gsheet', 'Student with Field of Study - Student.gsheet', 'Untitled document.gdoc', 'resume.pdf', 'resume.gdoc', 'Cover Letter.gdoc', 'Sourabh singhal  FIFA- Round of 16.gsheet', 'sourabh singhal Full Exercise- 2 Call Centre Compensation Report.xlsx', 'Sourabh Singhal Resume Ds intern (1).pdf', 'Sourabh Singhal Resume Ds intern.pdf', 'sourabh singhal xa tracker.gsheet', 'Sourabh Singhal Resume1.pdf', 'Sales Prediction Model', 'sales_prediction_model.joblib', 'predictions.csv']\n",
            "['computing-usage-dataset', '10.pdf', '12.pdf', 'State of eligibility.pdf', 'photo.jpg', 'signature.jpg', 'Enrollment Form Print.pdf', 'Online Payment Receipt.pdf', 'front Page.pdf', 'Certificate for Sourabh Singhal for \"Online Workshop\".pdf', 'Sourabh Singhal (2).pdf', 'Sourabh.pdf', 'Sourabh Singhal.pdf', 'IMG_20210722_162457.jpg', 'Sourabh photo.jpg', 'Sourabh covid vaccination 1 dose certificate.pdf', 'Id card.jpg', 'SOURABH SINGHAL.jpg', 'photo (1).jpg', 'Sourabh Singhal (1).pdf', 'SourabhSinghal-LNCT Cyber Surak-certificate.pdf', 'SourabhSinghal-LNCT Cyber Surak-certificate (1).pdf', 'SourabhSinghal-LNCT Cyber Surak-certificate (2).pdf', 'SourabhSinghal-LNCT Cyber Surak-certificate (3).pdf', '0103EC201171.pdf', 'Document from Anita', 'photo.jpeg', 'WhatsApp Image 2023-07-25 at 12.50.18 PM.jpeg', 'IMG-20230731-WA0014.jpg', 'bio.gdoc', 'blackcoffer', 'Smart_Helmet_Kavach_Synopsis[1][1].docx', 'Resume', 'AWS Cloud Practioner Essentials Completion Certificate.pdf', 'adarsh bhai  biodata.gdoc', 'Colab Notebooks', 'Mamaji Bio Data.gdoc', 'IMG_20240311_204930.jpg', 'MasterDictionary', 'StopWords', 'assignment blackcoffer', 'invact', 'bcs', 'SourabhSinghal_GS5_CW.gsheet', 'Taiyo', 'SourabhSinghal_B0_Functions.gsheet', 'Copy of Kreative Organics Assignments - Data science Role.gsheet', 'Copy of Sample Data Set For Main Tasks.gsheet', 'Deep Thought.gsheet', 'output_with_key.csv', 'Sourabh_Singhal_OLA-B0 & B1.gsheet', 'sourabh singhal [Final Assignment] B4.6 Bank Transaction.gsheet', 'sourabh singhal B7.1 Data Cleaning-I.gsheet', 'Sourabh Singhal B7.2 Data Cleaning-II.gsheet', 'Sourabh Singhal B7 Final Assignment.gsheet', 'Sourabh Singhal B8.1 Pivot Table-1.gsheet', 'Sourabh Singhal B8.2 Percentage Analysis_Pivot Tables.gsheet', 'sourabh singhal B7.2 Data Cleaning-II (1).gsheet', 'sourabh singhal B7.2 Data Cleaning-II.gsheet', 'Sourabh Singhal B8.4 Multiple rows and column with filters.gsheet', 'sourabh singhal B7.3 Data Cleaning-III.gsheet', 'sourabh singhal B9.1 Pivot Table-II.gsheet', 'sourabh singhal OLA (B1-B4).gsheet', 'sourabh singhal [Final Assignment] B8.6 OfficeTech & More.gsheet', 'sourabh singhal B9.2 Pivot Table-II.gsheet', 'sourabh singhal [Assignment] B9.6 RoamTheLand.gsheet', 'sourabh singhal OLA (B5).gsheet', 'sourabh singhal B10.5 TechMart Electronics.gsheet', 'sourabh singhal [Assignment] B10.6 TechSol Enterprises.gsheet', 'sourabh singhal OLA (B8 & B9).gsheet', 'sourabh singhal [Final Assignment] B11 Sales Data.gsheet', 'sourabh singhal OLA (B10).gsheet', 'sourabh singhal [Assignment] B12.5 FilmCraft  Analytics.gsheet', 'sourabh singhal [Final Assignment] B13 SuperMart.gsheet', 'sourabh singhal [Final Assignment-Question] A1.8 Dubey Dry Fruits.gsheet', 'Screenshot_2024-05-20-22-38-02-12_b8a0c51c060ad6c221faa2495327ecc5.jpg', 'SOURABH SINGHAL [Final Assignment] A2.7 Poha Stall.gsheet', 'real freelancer.gdoc', 'sample of freelancer.gdoc', 'SOURABH SINGHAL [Final Assignment] A3.4 Srikanta Dosa Shop_Question.gsheet', 'SOURABH SINGHAL [Full Assignment -Question] A4.4 Gadget accessories  store.gsheet', 'SOURABH SINGHAL [Final Assignment] A5.5 Agarbatti Company [Updated].gsheet', 'Naman_Biodata-1.pdf', 'IMG-20240609-WA0008.jpg', 'sourabh singhal C2.1_TeeWave.gsheet', 'SOURABH SINGHAL [Full Exercise 2] A5.4 Candle Company [New].gsheet', 'SOURABH SINGHAL [Full Exercise 1] A7.3 Sandwich outlet.gsheet', 'SOURABH SINGHAL [Assignment] A7.4 Coffee House.gsheet', 'Adarsh_Agrawal.pdf', 'SOURABH SINGHAL [Full Exercise 2] A6.3 Home appliance store.gsheet', 'sourabh singhal C1.1_Diamond  Icecream Corner.gsheet', 'sourabh singhal [Full Exercise] C1.9_Royal Saree.gsheet', 'sourabh singhal [Full Exercise] C1.10_Sports Hub.gsheet', 'sourabh singhal [Final Assignment] C1.10 Gift Town_Question.gsheet', 'sourabh singhal C3.1 Chocolate Factory.gsheet', 'sourabh singhal [Full Exercise-1] C3.3 Paint & Twist.gsheet', 'sourabh singhal [Full Exercise] C3.3 Samosa Shop.gsheet', 'sourabh singhal [Assignment] CustomWear Creations.gsheet', 'sourabh singhal [Full Exercise-1] C4.5 Bedding stores.gsheet', 'sourabh singhal [Full Exercise-2] C4.5 Puja stores.gsheet', 'SOURABH SINGHAL [Assignment]  A6.4 Furniture store.gsheet', 'sourabh singhal [Final Assignment] C4.6 Bag Retailers.gsheet', 'front adhar.jpeg', 'sourabh singhal [Full Exercise-1] D2.4 GreenThumb Nursery .gsheet', 'sourabh singhal [Full Exercise-2] D2.4 Glitters Ltd.gsheet', 'sourabh singhal [Final Assignment] D2.5 TechWonders.gsheet', 'sourabh singhal D3.1 Venus Chocolates.gsheet', 'sourabh singhal [Full Exercise-1] D3.7 RoadGrip.gsheet', 'sourabh singhal [Full Exercise-2] D3.7 Candle Cult.gsheet', 'sourabh singhal [Final Assignment] D3.8 Ceramic World.gsheet', 'My Resume (6).pdf', 'My Resume (5).pdf', 'sourabh singhal Theory Concepts- 1_Solution Template.gdoc', 'sourabh singhal D4.1 Venus Chocolates.gsheet', 'sourabh singhal Full Exercise-1] D4.7 RoadGrip.gsheet', 'sourabh singhal [Full Exercise-2] D4.7 Candle Cult.gsheet', 'sourabh singhal D5.1 Venus Chocolates.gsheet', 'sourabh singhal [Full Exercise-1]D5.3_RoadGrip.gsheet', 'sourabh singhal [Full Exercise-2]D5.3_Candle Cult.gsheet', 'sourabh singhal [Full Assignment]D5.4 Ceramic World.gsheet', 'sourabh singhal D6.1 Saturn Cookies.gsheet', 'sourabh singhal Theory Concepts- 2_Solution Template.gdoc', 'sourabh singhal [Full Exercise-1] D6.5 Neeta Silk.gsheet', 'sourabh singhal [Final Assignment] D6.6 Arun Toys (1).gsheet', 'sourabh singhal [Full Exercise-1] E1.5 Omega Ltd..gsheet', 'sourabh singhal [Full Exercise-1] E2.4 Omega Ltd..gsheet', 'Aptitude Test.xlsm', 'My Resume (4).pdf', 'sourabh singhal Theory Concepts- 3_Solution Template.gdoc', 'sourabh singhal [Full Exercise-2] D6.5 Benita Solutions.gsheet', 'sourabh [Final Assignment] E2.5 Infynes Ltd.gsheet', 'sourabh singhal Theory Concepts- 4_Solution Template.gdoc', 'sourabhsinghal [Full Exercise-2] E2.4 BLT Ltd..gsheet', 'sourabh singhal [Final Assignment] E1.6 Infynes Ltd..gsheet', 'sourabh singhal [Final Assignment] D6.6 Arun Toys.gsheet', 'sourabh singhal [Full Exercise-2] E1.5 BLT Ltd..gsheet', 'sourabh singhal Theory Concepts- 12_Solution Template.gdoc', 'sourabh singhal FE-1_Soundwear_Question.gsheet', 'f1', 'sourabh singhal F1.1_Class Exercise.gdoc', 'sourabh singhal FE-2_Mobile Planet_Question.gsheet', 'sourabh singhal F1.2_Full Exercise 2.gdoc', 'sourabh singhal Assignment_Question.gsheet', 'sourabh singhal F1.3_Final Assignment.gdoc', 'sourabh singhal [Full Exercise-1] D1.5 Fast N Speedy.gsheet', 'sourabh singhal [Full Exercise-2] D1.5 Bookstore 101.gsheet', 'sourabh singhal [Final Assignment] D1.6 CellPower Question.gsheet', 'sourabh singhal F2.1_Class Exercise.gdoc', 'sourabh singhal F2.2_Full Exercise 2.gdoc', 'sourabh singhal F2.3_Final Assignment.gdoc', 'sourabh singhal Theory Concepts- Revision 2 Solution Template.gdoc', 'sourabh singhal Theory Concepts- 5_Solution Template (1).gdoc', 'sourabh singhal Theory Concepts- 6_Solution Template.gdoc', 'sourabh singhal Theory Concepts- 11_Solution Template.gdoc', 'sourabh singhal Theory Concepts- 10_Solution Template.gdoc', 'sourabh singhal Theory Concepts- 8_Solution Template.gdoc', 'sourabh singhal Theory Concepts- 5_Solution Template.gdoc', 'sourabh singhal Theory Concepts- 7_Solution Template.gdoc', 'sourabh singhal Theory Concepts- Revision 1_Solution Template.gdoc', 'sourabh singhal Theory Concepts- 9_Solution Template.gdoc', 'sourabh singhal ClassExercise_EM Lookups_Cricketer Data.gsheet', 'sourabh singhal Final Assignment_Hotel Cancellation (1).gsheet', 'sourabh singhal Full Exercise-1_Electronics Data.gsheet', 'sourabh singhal Final Assignment_Hotel Rating.gsheet', 'sourabh singhal TC_Excel 1.gdoc', 'sourabh singhal Full Exercise-1_Gym Data.gsheet', 'sourabh singhal Full Exercise-2_Travel Data.gsheet', 'sourabh singhal [Full Exercise] EM KPI_Preowned Car Dealer.gsheet', 'sourabh singhal Final Assignment_Hotel Cancellation.gsheet', 'sourabh singhal Full Exercise-1 EM MIS_Order Data.gsheet', 'sourabh singhal Full Exercise-2 EM MIS_ Sales Order Report.gsheet', 'sourabh singhal [Final Exercise ] KPI Loan_Data.gsheet', 'IMG20240810182333.jpg', 'Screenshot_2024-08-10-18-26-19-15_c37d74246d9c81aa0bb824b57eaf7062.jpg', 'IMG_20240810_182740.jpg', 'IMG20240810183238.jpg', 'challenge_sheet.gsheet', 'Difficulty_Level (1).gsheet', 'Difficulty_Level.gsheet', 'student_sheet.gsheet', 'Submission_sheet.gsheet', 'Submission_sheet_20th_March.gsheet', 'Student-region.gsheet', 'Student with Field of Study - Student (2).gsheet', 'Student with Field of Study - Student (1).gsheet', 'Submission 9th_March - submission (1).gsheet', 'SOURABH SINGHAL__Sportsfit.gsheet', 'SOURABH SINGHAL_ABC Ltd.gsheet', 'SOURABH SINGHAL_StepNStyle.gsheet', 'Screenshot_2024-08-21-12-47-59-67_e307a3f9df9f380ebaf106e1dc980bb6.jpg', 'My Resume (3).pdf', 'My Resume (2).pdf', '[Data Analyst Intern at Invact] Assignment 1.pdf', 'sourabh singhal [Data Analyst Intern at Invact] Student Performance Analysis.gsheet', 'Screenshot_2024-08-24-16-47-46-43_40deb401b9ffe8e1df2f1cc5ba480b12.jpg', '[Data Analyst Intern at Invact] Assignment 2.pdf', '[Data Analyst Intern at Invact] Assignment 2.gdoc', 'sourabh singhal [Data Analyst Intern at Invact] Assignment 2.gsheet', 'Sourabh Singhal FIFA- Group Matches (Week 1).gsheet', 'My Resume (1).pdf', 'My Resume.pdf', 'My Resume2.pdf', 'Sourabh Singhal Resume.gdoc', 'Task 3_Final Content Data set.csv', 'Sourabh Singhal Resume.pdf', 'sourabh Singhal [Assignment] EM Functions- Importrange.gsheet', 'Task 3_Final Content Data set.gsheet', 'Untitled presentation.gslides', 'Screen-Recording-2024-09-14T08_45_13 (1).662Z.mp4', 'AIML Sourabh Singhal.gslides', 'AIML_SOURABH_SINGHAL.zip', 'Screen-Recording-2024-09-14T08_45_13.662Z.mp4', 'Sourabh Singhal', 'Sourabh Singhal IntroTravel Variance Analysis.gsheet', 'Copy of Final Sphurti Excel Test 1.xlsx', 'WhatsApp Image 2024-09-23 at 7.41.02 PM.jpg', 'WhatsApp Image 2024-09-23 at 7.41.02 PM.gdoc', 'ats resume.gdoc', 'Sourabh Singhal Tringg Cars.gsheet', 'Sourabh Singhal FIFA- Group Matches (Week 2).gsheet', 'SOURABH SINGHAL Certificate.pdf', 'Submission 8th_March - submission.gsheet', 'student_id_with_ region_8thMarch.gsheet', 'Submission 9th_March - submission.gsheet', 'Student with Field of Study - Student.gsheet', 'Untitled document.gdoc', 'resume.pdf', 'resume.gdoc', 'Cover Letter.gdoc', 'Sourabh singhal  FIFA- Round of 16.gsheet', 'sourabh singhal Full Exercise- 2 Call Centre Compensation Report.xlsx', 'Sourabh Singhal Resume Ds intern (1).pdf', 'Sourabh Singhal Resume Ds intern.pdf', 'sourabh singhal xa tracker.gsheet', 'Sourabh Singhal Resume1.pdf', 'Sales Prediction Model', 'sales_prediction_model.joblib', 'predictions.csv']\n"
          ]
        }
      ]
    },
    {
      "cell_type": "code",
      "source": [
        "import pandas as pd\n",
        "from sklearn.metrics import mean_squared_error, mean_absolute_error, r2_score\n",
        "import numpy as np\n",
        "\n",
        "y_actual = predictions['Actual']\n",
        "y_pred = predictions['Predicted']\n",
        "\n",
        "# Step 3: Calculate Evaluation Metrics\n",
        "mse = mean_squared_error(y_actual, y_pred)\n",
        "mae = mean_absolute_error(y_actual, y_pred)\n",
        "r2 = r2_score(y_actual, y_pred)\n",
        "rmse = np.sqrt(mse)\n",
        "\n",
        "# Step 4: Display the Results\n",
        "print(\"Evaluation Metrics:\")\n",
        "print(f\"Mean Squared Error (MSE): {mse:.2f}\")\n",
        "print(f\"Mean Absolute Error (MAE): {mae:.2f}\")\n",
        "print(f\"Root Mean Squared Error (RMSE): {rmse:.2f}\")\n",
        "print(f\"R-squared (R²): {r2:.2f}\")"
      ],
      "metadata": {
        "colab": {
          "base_uri": "https://localhost:8080/"
        },
        "id": "8cg737M-hVkZ",
        "outputId": "1c57fd54-1d8c-4cf2-8013-0abd710dfb90"
      },
      "execution_count": null,
      "outputs": [
        {
          "output_type": "stream",
          "name": "stdout",
          "text": [
            "Evaluation Metrics:\n",
            "Mean Squared Error (MSE): 711737621.09\n",
            "Mean Absolute Error (MAE): 12568.37\n",
            "Root Mean Squared Error (RMSE): 26678.41\n",
            "R-squared (R²): 0.80\n"
          ]
        }
      ]
    },
    {
      "cell_type": "code",
      "source": [
        "mape = np.mean(np.abs((y_actual - y_pred) / y_actual)) * 100\n",
        "\n",
        "# Step 4: Calculate Efficiency\n",
        "efficiency = 100 - mape\n",
        "\n",
        "# Step 5: Display the Results\n",
        "print(\"Efficiency of Predictions:\")\n",
        "print(f\"Efficiency: {efficiency:.2f}%\")"
      ],
      "metadata": {
        "colab": {
          "base_uri": "https://localhost:8080/"
        },
        "id": "YZ7tkFvwijSl",
        "outputId": "8891d363-080b-4c26-a38c-ce68eec3b754"
      },
      "execution_count": null,
      "outputs": [
        {
          "output_type": "stream",
          "name": "stdout",
          "text": [
            "Efficiency of Predictions:\n",
            "Efficiency: 85.96%\n"
          ]
        }
      ]
    }
  ]
}