{
  "nbformat": 4,
  "nbformat_minor": 0,
  "metadata": {
    "colab": {
      "provenance": []
    },
    "kernelspec": {
      "name": "python3",
      "display_name": "Python 3"
    },
    "language_info": {
      "name": "python"
    }
  },
  "cells": [
    {
      "cell_type": "code",
      "execution_count": null,
      "metadata": {
        "id": "JjhPJn41Vv6B"
      },
      "outputs": [],
      "source": [
        "import pandas as pd\n",
        "import numpy as np\n",
        "from sklearn.model_selection import train_test_split\n",
        "from sklearn.preprocessing import StandardScaler, OneHotEncoder\n",
        "from sklearn.compose import ColumnTransformer\n",
        "from sklearn.pipeline import Pipeline\n",
        "from sklearn.ensemble import RandomForestRegressor\n",
        "from sklearn.metrics import mean_squared_error\n",
        "import joblib\n"
      ]
    },
    {
      "cell_type": "code",
      "source": [
        "from google.colab import drive\n",
        "drive.mount('/content/drive/')"
      ],
      "metadata": {
        "colab": {
          "base_uri": "https://localhost:8080/"
        },
        "id": "mbspvRfTWCWp",
        "outputId": "83c687fe-b9c3-46ad-d50d-7e75dc2b1098"
      },
      "execution_count": null,
      "outputs": [
        {
          "output_type": "stream",
          "name": "stdout",
          "text": [
            "Mounted at /content/drive/\n"
          ]
        }
      ]
    },
    {
      "cell_type": "code",
      "source": [
        "\n",
        "\n",
        "data = pd.read_csv(\"/content/drive/My Drive/Sales Prediction Model/laptop_cleaned2.csv\")\n",
        "\n",
        "# Display the first few rows of the dataframe\n",
        "print(data.head())\n"
      ],
      "metadata": {
        "colab": {
          "base_uri": "https://localhost:8080/"
        },
        "id": "iLj2lJSoWIS9",
        "outputId": "90a868ae-7fd2-44b9-85c6-77f0b8efcd04"
      },
      "execution_count": null,
      "outputs": [
        {
          "output_type": "stream",
          "name": "stdout",
          "text": [
            "   Unnamed: 0                                               Name    Brand  \\\n",
            "0           0  HP Victus 15-fb0157AX Gaming Laptop (AMD Ryzen...       HP   \n",
            "1           1  Lenovo V15 G4 ‎82YU00W7IN Laptop (AMD Ryzen 3 ...   Lenovo   \n",
            "2           2  HP 15s-fq5007TU Laptop (12th Gen Core i3/ 8GB/...       HP   \n",
            "3           3  Samsung Galaxy Book2 Pro 13 Laptop (12th Gen C...  Samsung   \n",
            "4           4  Tecno Megabook T1 Laptop (11th Gen Core i3/ 8G...    Tecno   \n",
            "\n",
            "   Price  Rating Processor_brand Processor_name Processor_variant  \\\n",
            "0  50399    4.30             AMD    AMD Ryzen 5             5600H   \n",
            "1  26690    4.45             AMD    AMD Ryzen 3             7320U   \n",
            "2  37012    4.65           Intel  Intel Core i3             1215U   \n",
            "3  69990    4.75           Intel  Intel Core i5             1240P   \n",
            "4  23990    4.25           Intel  Intel Core i3            1115G4   \n",
            "\n",
            "   Processor_gen  Core_per_processor  ...           Graphics_name  \\\n",
            "0            5.0                 6.0  ...     AMD Radeon RX 6500M   \n",
            "1            7.0                 4.0  ...     AMD Radeon Graphics   \n",
            "2           12.0                 6.0  ...      Intel UHD Graphics   \n",
            "3           12.0                12.0  ...  Intel Iris Xe Graphics   \n",
            "4           11.0                 2.0  ...      Intel UHD Graphics   \n",
            "\n",
            "   Graphics_brand  Graphics_GB  Graphics_integreted  Display_size_inches  \\\n",
            "0             AMD          4.0                False                 15.6   \n",
            "1             AMD          NaN                False                 15.6   \n",
            "2           Intel          NaN                False                 15.6   \n",
            "3           Intel          NaN                False                 13.3   \n",
            "4           Intel          NaN                False                 15.6   \n",
            "\n",
            "   Horizontal_pixel Vertical_pixel     ppi Touch_screen Operating_system  \n",
            "0              1920           1080  141.21         True    Windows 11 OS  \n",
            "1              1920           1080  141.21        False    Windows 11 OS  \n",
            "2              1920           1080  141.21        False    Windows 11 OS  \n",
            "3              1080           1920  165.63        False    Windows 11 OS  \n",
            "4              1920           1080  141.21        False    Windows 11 OS  \n",
            "\n",
            "[5 rows x 29 columns]\n"
          ]
        }
      ]
    },
    {
      "cell_type": "code",
      "source": [
        "# Step 4: Check for Missing Values\n",
        "print(\"Missing values in each column:\")\n",
        "print(data.isnull().sum())\n",
        "\n",
        "# Step 5: Handle Missing Values\n",
        "# Fill NaN values (e.g., with mean for numerical columns)\n",
        "for col in data.select_dtypes(include=[np.number]).columns:\n",
        "    data[col].fillna(data[col].mean(), inplace=True)\n",
        "\n",
        "# For categorical columns, you can fill with mode or create a separate category\n",
        "for col in data.select_dtypes(include=['object']).columns:\n",
        "    data[col].fillna(data[col].mode()[0], inplace=True)\n",
        "\n",
        "# Step 6: Define Features and Target Variable\n",
        "X = data.drop('Price', axis=1)  # Adjust if another column is the target\n",
        "y = data['Price']  # Update as per your dataset\n",
        "\n",
        "# Step 7: Preprocess Data\n",
        "categorical_cols = ['Brand', 'Processor_brand', 'Processor_name',\n",
        "                    'Processor_variant', 'Processor_gen',\n",
        "                    'RAM_type', 'Storage_type',\n",
        "                    'Graphics_name', 'Graphics_brand',\n",
        "                    'Operating_system']\n",
        "numerical_cols = ['Rating', 'Core_per_processor',\n",
        "                  'Total_processor', 'Threads',\n",
        "                  'RAM_GB', 'Storage_capacity_GB',\n",
        "                  'Graphics_GB', 'Display_size_inches',\n",
        "                  'Horizontal_pixel', 'Vertical_pixel',\n",
        "                  'ppi', 'Touch_screen']\n",
        "\n",
        "# Define preprocessing steps\n",
        "numerical_transformer = StandardScaler()\n",
        "categorical_transformer = OneHotEncoder(handle_unknown='ignore')  # Update here\n",
        "\n",
        "preprocessor = ColumnTransformer(\n",
        "    transformers=[\n",
        "        ('num', numerical_transformer, numerical_cols),\n",
        "        ('cat', categorical_transformer, categorical_cols)\n",
        "    ])\n",
        "\n",
        "# Step 8: Create a Pipeline\n",
        "model = Pipeline(steps=[\n",
        "    ('preprocessor', preprocessor),\n",
        "    ('regressor', RandomForestRegressor(n_estimators=100, random_state=42))\n",
        "])\n",
        "\n",
        "# Step 9: Split the Data into Training and Test Sets\n",
        "X_train, X_test, y_train, y_test = train_test_split(X, y, test_size=0.2, random_state=42)\n",
        "\n",
        "# Step 10: Train the Model\n",
        "model.fit(X_train, y_train)\n",
        "\n",
        "# Step 11: Make Predictions\n",
        "y_pred = model.predict(X_test)\n",
        "\n",
        "# Step 12: Evaluate Model Performance\n",
        "mse = mean_squared_error(y_test, y_pred)\n",
        "print(\"Mean Squared Error:\", mse)\n",
        "\n",
        "# Step 13: Save the Model and Predictions\n",
        "model_path = '/content/drive/My Drive/sales_prediction_model.joblib'  # Update the path\n",
        "joblib.dump(model, model_path)\n",
        "\n",
        "# Save predictions to a CSV file\n",
        "predictions = pd.DataFrame({'Actual': y_test, 'Predicted': y_pred})\n",
        "predictions_path = '/content/drive/My Drive/predictions.csv'  # Update the path\n",
        "predictions.to_csv(predictions_path, index=False)\n",
        "\n"
      ],
      "metadata": {
        "id": "C4pW0xfyaF73",
        "collapsed": true
      },
      "execution_count": null,
      "outputs": []
    },
    {
      "cell_type": "code",
      "source": [
        "import pandas as pd\n",
        "from sklearn.metrics import mean_squared_error, mean_absolute_error, r2_score\n",
        "import numpy as np\n",
        "\n",
        "y_actual = predictions['Actual']\n",
        "y_pred = predictions['Predicted']\n",
        "\n",
        "# Step 3: Calculate Evaluation Metrics\n",
        "mse = mean_squared_error(y_actual, y_pred)\n",
        "mae = mean_absolute_error(y_actual, y_pred)\n",
        "r2 = r2_score(y_actual, y_pred)\n",
        "rmse = np.sqrt(mse)\n",
        "\n",
        "# Step 4: Display the Results\n",
        "print(\"Evaluation Metrics:\")\n",
        "print(f\"Mean Squared Error (MSE): {mse:.2f}\")\n",
        "print(f\"Mean Absolute Error (MAE): {mae:.2f}\")\n",
        "print(f\"Root Mean Squared Error (RMSE): {rmse:.2f}\")\n",
        "print(f\"R-squared (R²): {r2:.2f}\")"
      ],
      "metadata": {
        "colab": {
          "base_uri": "https://localhost:8080/"
        },
        "id": "8cg737M-hVkZ",
        "outputId": "1c57fd54-1d8c-4cf2-8013-0abd710dfb90"
      },
      "execution_count": null,
      "outputs": [
        {
          "output_type": "stream",
          "name": "stdout",
          "text": [
            "Evaluation Metrics:\n",
            "Mean Squared Error (MSE): 711737621.09\n",
            "Mean Absolute Error (MAE): 12568.37\n",
            "Root Mean Squared Error (RMSE): 26678.41\n",
            "R-squared (R²): 0.80\n"
          ]
        }
      ]
    },
    {
      "cell_type": "code",
      "source": [
        "mape = np.mean(np.abs((y_actual - y_pred) / y_actual)) * 100\n",
        "\n",
        "# Step 4: Calculate Efficiency\n",
        "efficiency = 100 - mape\n",
        "\n",
        "# Step 5: Display the Results\n",
        "print(\"Efficiency of Predictions:\")\n",
        "print(f\"Efficiency: {efficiency:.2f}%\")"
      ],
      "metadata": {
        "colab": {
          "base_uri": "https://localhost:8080/"
        },
        "id": "YZ7tkFvwijSl",
        "outputId": "8891d363-080b-4c26-a38c-ce68eec3b754"
      },
      "execution_count": null,
      "outputs": [
        {
          "output_type": "stream",
          "name": "stdout",
          "text": [
            "Efficiency of Predictions:\n",
            "Efficiency: 85.96%\n"
          ]
        }
      ]
    }
  ]
}